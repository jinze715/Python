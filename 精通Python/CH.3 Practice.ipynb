{
 "cells": [
  {
   "cell_type": "markdown",
   "metadata": {},
   "source": [
    "### 用 break 來取消"
   ]
  },
  {
   "cell_type": "code",
   "execution_count": 1,
   "metadata": {},
   "outputs": [
    {
     "name": "stdout",
     "output_type": "stream",
     "text": [
      "String to capitalize[type q to quit]: 1\n",
      "1\n",
      "String to capitalize[type q to quit]: q\n"
     ]
    }
   ],
   "source": [
    "while True:\n",
    "    stuff = input(\"String to capitalize[type q to quit]: \")\n",
    "    if stuff == \"q\":\n",
    "        break\n",
    "    print(stuff.capitalize())"
   ]
  },
  {
   "cell_type": "markdown",
   "metadata": {},
   "source": [
    "### 用 continue 來跳過"
   ]
  },
  {
   "cell_type": "code",
   "execution_count": 2,
   "metadata": {},
   "outputs": [
    {
     "name": "stdout",
     "output_type": "stream",
     "text": [
      "Integer, please [q to quit]: 2\n",
      "Integer, please [q to quit]: 5\n",
      "5 squared is 25\n",
      "Integer, please [q to quit]: q\n"
     ]
    }
   ],
   "source": [
    "while True:\n",
    "    value = input(\"Integer, please [q to quit]: \") #取得字串形式的使用者輸入\n",
    "    if value == 'q':\n",
    "        break\n",
    "    number = int(value) #轉換為數字型態\n",
    "    if number % 2 == 0: #偶數\n",
    "        continue\n",
    "    print(number, \"squared is\", number*number)"
   ]
  },
  {
   "cell_type": "markdown",
   "metadata": {},
   "source": [
    "### 用 else 來檢查中斷"
   ]
  },
  {
   "cell_type": "code",
   "execution_count": 3,
   "metadata": {},
   "outputs": [
    {
     "name": "stdout",
     "output_type": "stream",
     "text": [
      "找不到偶數值\n"
     ]
    }
   ],
   "source": [
    "numbers = [1,3,5]\n",
    "position = 0\n",
    "while position < len(numbers): #len(numbers)為numbers串列裡有幾個元素\n",
    "    number = numbers[position]\n",
    "    if number % 2 ==0:\n",
    "        print('找到偶數值', number)\n",
    "        break\n",
    "    position += 1\n",
    "else:\n",
    "    print('找不到偶數值')"
   ]
  },
  {
   "cell_type": "markdown",
   "metadata": {},
   "source": [
    "###  for 來迭代"
   ]
  },
  {
   "cell_type": "code",
   "execution_count": 4,
   "metadata": {},
   "outputs": [
    {
     "name": "stdout",
     "output_type": "stream",
     "text": [
      "Flopsy\n",
      "Mopsy\n",
      "Cottontail\n",
      "Peter\n"
     ]
    }
   ],
   "source": [
    "rabbits = ['Flopsy', 'Mopsy', 'Cottontail', 'Peter']\n",
    "current = 0\n",
    "while current < len(rabbits):\n",
    "    print(rabbits[current])\n",
    "    current += 1"
   ]
  },
  {
   "cell_type": "code",
   "execution_count": 5,
   "metadata": {},
   "outputs": [
    {
     "name": "stdout",
     "output_type": "stream",
     "text": [
      "Flopsy\n",
      "Mopsy\n",
      "Cottontail\n",
      "Peter\n"
     ]
    }
   ],
   "source": [
    "for item in rabbits:\n",
    "    print(item)"
   ]
  },
  {
   "cell_type": "markdown",
   "metadata": {},
   "source": [
    "### 使用 else 來檢查 for 是否中斷"
   ]
  },
  {
   "cell_type": "code",
   "execution_count": 6,
   "metadata": {},
   "outputs": [
    {
     "name": "stdout",
     "output_type": "stream",
     "text": [
      "This is not much of a cheese shop, is it?\n"
     ]
    }
   ],
   "source": [
    "cheeses = []\n",
    "for cheese in cheeses:\n",
    "    print('This shop has some lovely', cheese)\n",
    "    break\n",
    "else:\n",
    "    print('This is not much of a cheese shop, is it?')"
   ]
  },
  {
   "cell_type": "markdown",
   "metadata": {},
   "source": [
    "### 用 zip() 來迭代多個序列"
   ]
  },
  {
   "cell_type": "code",
   "execution_count": 7,
   "metadata": {},
   "outputs": [],
   "source": [
    "days = ['Monday', 'Tuesday', 'Wednesday']\n",
    "fruits = ['banana', 'orange', 'peach']\n",
    "drinks = ['coffee', 'tea', 'beer']\n",
    "desserts = ['tiramisu', 'ice cream', 'pie', 'pudding']"
   ]
  },
  {
   "cell_type": "code",
   "execution_count": 8,
   "metadata": {},
   "outputs": [
    {
     "name": "stdout",
     "output_type": "stream",
     "text": [
      "Monday : drink coffee - eat banana - enjoy tiramisu\n",
      "Tuesday : drink tea - eat orange - enjoy ice cream\n",
      "Wednesday : drink beer - eat peach - enjoy pie\n"
     ]
    }
   ],
   "source": [
    "for day, fruit, drink, dessert in zip(days, fruits, drinks, desserts):\n",
    "    print(day, \": drink\", drink, \"- eat\", fruit, \"- enjoy\", dessert)"
   ]
  },
  {
   "cell_type": "code",
   "execution_count": 9,
   "metadata": {},
   "outputs": [
    {
     "data": {
      "text/plain": [
       "[('Monday', 'banana', 'coffee', 'tiramisu'),\n",
       " ('Tuesday', 'orange', 'tea', 'ice cream'),\n",
       " ('Wednesday', 'peach', 'beer', 'pie')]"
      ]
     },
     "execution_count": 9,
     "metadata": {},
     "output_type": "execute_result"
    }
   ],
   "source": [
    "list(zip(days, fruits, drinks, desserts))"
   ]
  },
  {
   "cell_type": "markdown",
   "metadata": {},
   "source": [
    "### 用 range 來產生數字序列"
   ]
  },
  {
   "cell_type": "code",
   "execution_count": 10,
   "metadata": {},
   "outputs": [
    {
     "data": {
      "text/plain": [
       "[0, 1, 2]"
      ]
     },
     "execution_count": 10,
     "metadata": {},
     "output_type": "execute_result"
    }
   ],
   "source": [
    "list(range(0,3))"
   ]
  },
  {
   "cell_type": "code",
   "execution_count": 11,
   "metadata": {},
   "outputs": [
    {
     "data": {
      "text/plain": [
       "[2, 1, 0]"
      ]
     },
     "execution_count": 11,
     "metadata": {},
     "output_type": "execute_result"
    }
   ],
   "source": [
    "list(range(2,-1,-1))"
   ]
  },
  {
   "cell_type": "code",
   "execution_count": 12,
   "metadata": {},
   "outputs": [
    {
     "name": "stdout",
     "output_type": "stream",
     "text": [
      "0\n",
      "1\n",
      "2\n"
     ]
    }
   ],
   "source": [
    "for i in range(0,3):\n",
    "    print(i)"
   ]
  },
  {
   "cell_type": "markdown",
   "metadata": {},
   "source": [
    "### 串列生成式  [運算式 for 項目 in 可迭代的項目]"
   ]
  },
  {
   "cell_type": "code",
   "execution_count": 13,
   "metadata": {},
   "outputs": [
    {
     "data": {
      "text/plain": [
       "[1, 2, 3, 4, 5]"
      ]
     },
     "execution_count": 13,
     "metadata": {},
     "output_type": "execute_result"
    }
   ],
   "source": [
    "number_list = [number for number in range(1,6)]\n",
    "number_list"
   ]
  },
  {
   "cell_type": "code",
   "execution_count": 14,
   "metadata": {},
   "outputs": [
    {
     "data": {
      "text/plain": [
       "[1, 3, 5]"
      ]
     },
     "execution_count": 14,
     "metadata": {},
     "output_type": "execute_result"
    }
   ],
   "source": [
    "odd_list = [number for number in range(1,6) if number % 2 ==1 ]# 運算式 for 項目 in 可迭代的項目\n",
    "odd_list"
   ]
  },
  {
   "cell_type": "code",
   "execution_count": 15,
   "metadata": {},
   "outputs": [
    {
     "name": "stdout",
     "output_type": "stream",
     "text": [
      "1 1\n",
      "1 2\n",
      "2 1\n",
      "2 2\n",
      "3 1\n",
      "3 2\n"
     ]
    }
   ],
   "source": [
    "rows = range(1,4)\n",
    "cols = range(1,3)\n",
    "for row in rows:\n",
    "    for col in cols:\n",
    "        print(row,col)"
   ]
  },
  {
   "cell_type": "code",
   "execution_count": 29,
   "metadata": {},
   "outputs": [
    {
     "data": {
      "text/plain": [
       "[(1, 1), (1, 2), (2, 1), (2, 2), (3, 1), (3, 2)]"
      ]
     },
     "execution_count": 29,
     "metadata": {},
     "output_type": "execute_result"
    }
   ],
   "source": [
    "rows = range(1,4)\n",
    "cols = range(1,3)\n",
    "cells = [(row,col) for row in rows for col in cols]\n",
    "cells #list裡是tuple"
   ]
  },
  {
   "cell_type": "code",
   "execution_count": 30,
   "metadata": {},
   "outputs": [
    {
     "name": "stdout",
     "output_type": "stream",
     "text": [
      "(1, 1)\n",
      "(1, 2)\n",
      "(2, 1)\n",
      "(2, 2)\n",
      "(3, 1)\n",
      "(3, 2)\n"
     ]
    }
   ],
   "source": [
    "for cell in cells:\n",
    "    print(cell)"
   ]
  },
  {
   "cell_type": "code",
   "execution_count": 31,
   "metadata": {},
   "outputs": [
    {
     "name": "stdout",
     "output_type": "stream",
     "text": [
      "1 1\n",
      "1 2\n",
      "2 1\n",
      "2 2\n",
      "3 1\n",
      "3 2\n"
     ]
    }
   ],
   "source": [
    "for row, col in cells:\n",
    "    print(row, col)"
   ]
  },
  {
   "cell_type": "markdown",
   "metadata": {},
   "source": [
    "### 字典生成式  {鍵運算式：值運算式 for 項目 in 可迭代的項目}"
   ]
  },
  {
   "cell_type": "code",
   "execution_count": 33,
   "metadata": {},
   "outputs": [
    {
     "data": {
      "text/plain": [
       "{'s': 1, 'e': 2, 'l': 1, 'r': 1, 't': 2}"
      ]
     },
     "execution_count": 33,
     "metadata": {},
     "output_type": "execute_result"
    }
   ],
   "source": [
    "word = 'letters'\n",
    "letter_counts = {letter: word.count(letter) for letter in set(word)}\n",
    "letter_counts"
   ]
  },
  {
   "cell_type": "markdown",
   "metadata": {},
   "source": [
    "### 集合生成式  {運算式 for 項目 in 可迭代的項目}"
   ]
  },
  {
   "cell_type": "code",
   "execution_count": 34,
   "metadata": {},
   "outputs": [
    {
     "data": {
      "text/plain": [
       "{1, 4}"
      ]
     },
     "execution_count": 34,
     "metadata": {},
     "output_type": "execute_result"
    }
   ],
   "source": [
    "a_set = {number for number in range(1,6) if number % 3 ==1}\n",
    "a_set"
   ]
  },
  {
   "cell_type": "markdown",
   "metadata": {},
   "source": [
    "### 產生器生成式  (運算式 for 項目 in 可迭代的項目)"
   ]
  },
  {
   "cell_type": "code",
   "execution_count": 35,
   "metadata": {},
   "outputs": [
    {
     "data": {
      "text/plain": [
       "generator"
      ]
     },
     "execution_count": 35,
     "metadata": {},
     "output_type": "execute_result"
    }
   ],
   "source": [
    "number_thing = (number for number in range(1, 6))\n",
    "type(number_thing)"
   ]
  },
  {
   "cell_type": "markdown",
   "metadata": {},
   "source": [
    "## 函式"
   ]
  },
  {
   "cell_type": "code",
   "execution_count": 36,
   "metadata": {},
   "outputs": [],
   "source": [
    "def agree():\n",
    "    return True"
   ]
  },
  {
   "cell_type": "code",
   "execution_count": 37,
   "metadata": {},
   "outputs": [
    {
     "name": "stdout",
     "output_type": "stream",
     "text": [
      "Splendid\n"
     ]
    }
   ],
   "source": [
    "if agree():\n",
    "    print('Splendid')\n",
    "else:\n",
    "    print('That was unexpected')"
   ]
  },
  {
   "cell_type": "code",
   "execution_count": 45,
   "metadata": {},
   "outputs": [],
   "source": [
    "def echo(anything):\n",
    "    return anything + ' ' + anything"
   ]
  },
  {
   "cell_type": "code",
   "execution_count": 52,
   "metadata": {},
   "outputs": [
    {
     "data": {
      "text/plain": [
       "'你好嗎？ 你好嗎？'"
      ]
     },
     "execution_count": 52,
     "metadata": {},
     "output_type": "execute_result"
    }
   ],
   "source": [
    "echo('你好嗎？')"
   ]
  },
  {
   "cell_type": "code",
   "execution_count": 55,
   "metadata": {},
   "outputs": [],
   "source": [
    "def commentary(color):\n",
    "    if color == 'red':\n",
    "        return \"It's a tomato.\"\n",
    "    elif color == 'green':\n",
    "        return \"It's a green pepper.\"\n",
    "    elif color == 'bee purple':\n",
    "        return \"I don't know what it is, but only bees can see it.\"\n",
    "    else:\n",
    "        return \"I've never heard of the color: \"+color+\".\""
   ]
  },
  {
   "cell_type": "code",
   "execution_count": 58,
   "metadata": {},
   "outputs": [],
   "source": [
    "comment = commentary(\"blue\")"
   ]
  },
  {
   "cell_type": "code",
   "execution_count": 59,
   "metadata": {},
   "outputs": [
    {
     "name": "stdout",
     "output_type": "stream",
     "text": [
      "I've never heard of the color: blue.\n"
     ]
    }
   ],
   "source": [
    "print(comment)"
   ]
  },
  {
   "cell_type": "markdown",
   "metadata": {},
   "source": [
    "### 位置引數"
   ]
  },
  {
   "cell_type": "code",
   "execution_count": 60,
   "metadata": {},
   "outputs": [],
   "source": [
    "def menu(wine, entree, dessert):\n",
    "    return {'wine':wine, 'entree':entree, 'dessert':dessert}"
   ]
  },
  {
   "cell_type": "code",
   "execution_count": 63,
   "metadata": {},
   "outputs": [
    {
     "data": {
      "text/plain": [
       "{'wine': '啤酒', 'entree': '燒烤', 'dessert': '布丁'}"
      ]
     },
     "execution_count": 63,
     "metadata": {},
     "output_type": "execute_result"
    }
   ],
   "source": [
    "menu('啤酒','燒烤','布丁')"
   ]
  },
  {
   "cell_type": "markdown",
   "metadata": {},
   "source": [
    "### 關鍵字引數"
   ]
  },
  {
   "cell_type": "code",
   "execution_count": 70,
   "metadata": {},
   "outputs": [
    {
     "data": {
      "text/plain": [
       "{'wine': '燒烤', 'entree': '布丁', 'dessert': '啤酒'}"
      ]
     },
     "execution_count": 70,
     "metadata": {},
     "output_type": "execute_result"
    }
   ],
   "source": [
    "menu('燒烤','布丁','啤酒')"
   ]
  },
  {
   "cell_type": "code",
   "execution_count": 76,
   "metadata": {},
   "outputs": [
    {
     "data": {
      "text/plain": [
       "{'wine': '啤酒', 'entree': '燒烤', 'dessert': '布丁'}"
      ]
     },
     "execution_count": 76,
     "metadata": {},
     "output_type": "execute_result"
    }
   ],
   "source": [
    "menu('啤酒',dessert='布丁',entree='燒烤')"
   ]
  },
  {
   "cell_type": "markdown",
   "metadata": {},
   "source": [
    "### 指定預設參數值"
   ]
  },
  {
   "cell_type": "code",
   "execution_count": 88,
   "metadata": {},
   "outputs": [],
   "source": [
    "def menu(wine, entree, dessert='pudding'):\n",
    "    return {'wine':wine, 'entree':entree, 'dessert':dessert}"
   ]
  },
  {
   "cell_type": "code",
   "execution_count": 89,
   "metadata": {},
   "outputs": [
    {
     "data": {
      "text/plain": [
       "{'wine': '威士忌', 'entree': '烤雞', 'dessert': 'pudding'}"
      ]
     },
     "execution_count": 89,
     "metadata": {},
     "output_type": "execute_result"
    }
   ],
   "source": [
    "menu('威士忌','烤雞')"
   ]
  },
  {
   "cell_type": "code",
   "execution_count": 78,
   "metadata": {},
   "outputs": [],
   "source": [
    "def nonbuggy(arg, result=None):\n",
    "    if result is None:\n",
    "        result=[]\n",
    "    result.append(arg)\n",
    "    print(result)"
   ]
  },
  {
   "cell_type": "code",
   "execution_count": 82,
   "metadata": {},
   "outputs": [],
   "source": [
    "def buggy(arg, result=[]):\n",
    "    result.append(arg)\n",
    "    print(result)"
   ]
  },
  {
   "cell_type": "code",
   "execution_count": 83,
   "metadata": {},
   "outputs": [
    {
     "name": "stdout",
     "output_type": "stream",
     "text": [
      "['a']\n"
     ]
    }
   ],
   "source": [
    "buggy('a')"
   ]
  },
  {
   "cell_type": "code",
   "execution_count": 84,
   "metadata": {},
   "outputs": [
    {
     "name": "stdout",
     "output_type": "stream",
     "text": [
      "['a', 'b']\n"
     ]
    }
   ],
   "source": [
    "buggy('b')"
   ]
  },
  {
   "cell_type": "code",
   "execution_count": 99,
   "metadata": {},
   "outputs": [
    {
     "name": "stdout",
     "output_type": "stream",
     "text": [
      "['c1', 'c2']\n"
     ]
    }
   ],
   "source": [
    "buggy('c2',['c1'])"
   ]
  },
  {
   "cell_type": "code",
   "execution_count": 95,
   "metadata": {},
   "outputs": [
    {
     "name": "stdout",
     "output_type": "stream",
     "text": [
      "['a']\n"
     ]
    }
   ],
   "source": [
    "nonbuggy('a')"
   ]
  },
  {
   "cell_type": "code",
   "execution_count": 96,
   "metadata": {},
   "outputs": [
    {
     "name": "stdout",
     "output_type": "stream",
     "text": [
      "['b']\n"
     ]
    }
   ],
   "source": [
    "nonbuggy('b')"
   ]
  },
  {
   "cell_type": "code",
   "execution_count": 98,
   "metadata": {},
   "outputs": [
    {
     "name": "stdout",
     "output_type": "stream",
     "text": [
      "['c1', 'c2']\n"
     ]
    }
   ],
   "source": [
    "nonbuggy('c2',['c1'])"
   ]
  },
  {
   "cell_type": "markdown",
   "metadata": {},
   "source": [
    "### 用 * 來收集位置引數"
   ]
  },
  {
   "cell_type": "code",
   "execution_count": 100,
   "metadata": {},
   "outputs": [],
   "source": [
    "def print_more(required1, required2, *args):\n",
    "    print('Need this one: ', required1)\n",
    "    print('Need this one too: ', required2)\n",
    "    print('All the rest:', args)"
   ]
  },
  {
   "cell_type": "code",
   "execution_count": 101,
   "metadata": {},
   "outputs": [
    {
     "name": "stdout",
     "output_type": "stream",
     "text": [
      "Need this one:  apple\n",
      "Need this one too:  water\n",
      "All the rest: ('honey', 'cup', 'sugar')\n"
     ]
    }
   ],
   "source": [
    "print_more('apple','water','honey','cup','sugar')"
   ]
  },
  {
   "cell_type": "markdown",
   "metadata": {},
   "source": [
    "### 用 ** 來收集關鍵字引數"
   ]
  },
  {
   "cell_type": "code",
   "execution_count": 3,
   "metadata": {},
   "outputs": [],
   "source": [
    "def print_kwargs(**kwargs):\n",
    "    print('keyword arguments:', kwargs)"
   ]
  },
  {
   "cell_type": "code",
   "execution_count": 4,
   "metadata": {},
   "outputs": [
    {
     "name": "stdout",
     "output_type": "stream",
     "text": [
      "keyword arguments: {'wine': 'merlot', 'entree': 'mutton', 'dessert': 'macaroon'}\n"
     ]
    }
   ],
   "source": [
    "print_kwargs(wine='merlot', entree='mutton', dessert='macaroon')"
   ]
  },
  {
   "cell_type": "markdown",
   "metadata": {},
   "source": [
    "### 文件字串"
   ]
  },
  {
   "cell_type": "code",
   "execution_count": 13,
   "metadata": {},
   "outputs": [],
   "source": [
    "def echo(anything):\n",
    "    'echo will return its input argument.'\n",
    "    return anything"
   ]
  },
  {
   "cell_type": "code",
   "execution_count": 16,
   "metadata": {},
   "outputs": [
    {
     "name": "stdout",
     "output_type": "stream",
     "text": [
      "Help on function echo in module __main__:\n",
      "\n",
      "echo(anything)\n",
      "    echo will return its input argument.\n",
      "\n"
     ]
    }
   ],
   "source": [
    "help(echo)"
   ]
  },
  {
   "cell_type": "code",
   "execution_count": 18,
   "metadata": {},
   "outputs": [
    {
     "name": "stdout",
     "output_type": "stream",
     "text": [
      "No Python documentation found for 'echo will return its input argument.'.\n",
      "Use help() to get the interactive help utility.\n",
      "Use help(str) for help on the str class.\n",
      "\n"
     ]
    }
   ],
   "source": [
    "help(echo.__doc__)"
   ]
  },
  {
   "cell_type": "markdown",
   "metadata": {},
   "source": [
    "### 函式是第一級公民"
   ]
  },
  {
   "cell_type": "code",
   "execution_count": 19,
   "metadata": {},
   "outputs": [],
   "source": [
    "def answer():\n",
    "    print(42)"
   ]
  },
  {
   "cell_type": "code",
   "execution_count": 20,
   "metadata": {},
   "outputs": [
    {
     "name": "stdout",
     "output_type": "stream",
     "text": [
      "42\n"
     ]
    }
   ],
   "source": [
    "answer()"
   ]
  },
  {
   "cell_type": "code",
   "execution_count": 21,
   "metadata": {},
   "outputs": [],
   "source": [
    "def run_something(func):\n",
    "    func()"
   ]
  },
  {
   "cell_type": "code",
   "execution_count": 22,
   "metadata": {},
   "outputs": [
    {
     "name": "stdout",
     "output_type": "stream",
     "text": [
      "42\n"
     ]
    }
   ],
   "source": [
    "run_something(answer)"
   ]
  },
  {
   "cell_type": "code",
   "execution_count": 23,
   "metadata": {},
   "outputs": [
    {
     "data": {
      "text/plain": [
       "function"
      ]
     },
     "execution_count": 23,
     "metadata": {},
     "output_type": "execute_result"
    }
   ],
   "source": [
    "type(run_something)"
   ]
  },
  {
   "cell_type": "code",
   "execution_count": 29,
   "metadata": {},
   "outputs": [],
   "source": [
    "def add_args(arg1, arg2):\n",
    "    print(arg1 * arg2)"
   ]
  },
  {
   "cell_type": "code",
   "execution_count": 30,
   "metadata": {},
   "outputs": [],
   "source": [
    "def run_something_with_arg(func, arg1, arg2):\n",
    "    func(arg1, arg2)"
   ]
  },
  {
   "cell_type": "code",
   "execution_count": 31,
   "metadata": {},
   "outputs": [
    {
     "name": "stdout",
     "output_type": "stream",
     "text": [
      "45\n"
     ]
    }
   ],
   "source": [
    "run_something_with_arg(add_args, 5, 9)"
   ]
  },
  {
   "cell_type": "code",
   "execution_count": 44,
   "metadata": {},
   "outputs": [],
   "source": [
    "def sum_args(*args):\n",
    "    return sum(args)"
   ]
  },
  {
   "cell_type": "code",
   "execution_count": 45,
   "metadata": {},
   "outputs": [],
   "source": [
    "def run_with_positionl_args(func,*args):\n",
    "    return func(*args)"
   ]
  },
  {
   "cell_type": "code",
   "execution_count": 46,
   "metadata": {},
   "outputs": [
    {
     "data": {
      "text/plain": [
       "10"
      ]
     },
     "execution_count": 46,
     "metadata": {},
     "output_type": "execute_result"
    }
   ],
   "source": [
    "run_with_positionl_args(sum_args, 1, 2, 3, 4)"
   ]
  },
  {
   "cell_type": "markdown",
   "metadata": {},
   "source": [
    "### 內部函式"
   ]
  },
  {
   "cell_type": "code",
   "execution_count": 55,
   "metadata": {},
   "outputs": [],
   "source": [
    "def knights(saying):\n",
    "    def inner(quote):\n",
    "        return \"We are the knights who say: '%4s'\" % quote\n",
    "    return inner(saying)"
   ]
  },
  {
   "cell_type": "code",
   "execution_count": 56,
   "metadata": {},
   "outputs": [
    {
     "data": {
      "text/plain": [
       "\"We are the knights who say: '  Ni'\""
      ]
     },
     "execution_count": 56,
     "metadata": {},
     "output_type": "execute_result"
    }
   ],
   "source": [
    "knights('Ni')"
   ]
  },
  {
   "cell_type": "code",
   "execution_count": 57,
   "metadata": {},
   "outputs": [],
   "source": [
    "def outer(a, b):\n",
    "    def inner(c, d):\n",
    "        return c + d\n",
    "    return inner(a, b)"
   ]
  },
  {
   "cell_type": "code",
   "execution_count": 58,
   "metadata": {},
   "outputs": [
    {
     "data": {
      "text/plain": [
       "104"
      ]
     },
     "execution_count": 58,
     "metadata": {},
     "output_type": "execute_result"
    }
   ],
   "source": [
    "outer(4, 100)"
   ]
  },
  {
   "cell_type": "markdown",
   "metadata": {},
   "source": [
    "### Closure"
   ]
  },
  {
   "cell_type": "code",
   "execution_count": 59,
   "metadata": {},
   "outputs": [],
   "source": [
    "def knights2(saying):\n",
    "    def inner2():\n",
    "        return \"We are the knights who say: '%4s'\" % saying\n",
    "    return inner2"
   ]
  },
  {
   "cell_type": "code",
   "execution_count": 60,
   "metadata": {},
   "outputs": [],
   "source": [
    "a = knights2('Duck')\n",
    "b = knights2('hasen')"
   ]
  },
  {
   "cell_type": "code",
   "execution_count": 64,
   "metadata": {},
   "outputs": [
    {
     "data": {
      "text/plain": [
       "function"
      ]
     },
     "execution_count": 64,
     "metadata": {},
     "output_type": "execute_result"
    }
   ],
   "source": [
    "type(a)"
   ]
  },
  {
   "cell_type": "code",
   "execution_count": 65,
   "metadata": {},
   "outputs": [
    {
     "data": {
      "text/plain": [
       "function"
      ]
     },
     "execution_count": 65,
     "metadata": {},
     "output_type": "execute_result"
    }
   ],
   "source": [
    "type(b)"
   ]
  },
  {
   "cell_type": "code",
   "execution_count": 66,
   "metadata": {},
   "outputs": [
    {
     "data": {
      "text/plain": [
       "<function __main__.knights2.<locals>.inner2()>"
      ]
     },
     "execution_count": 66,
     "metadata": {},
     "output_type": "execute_result"
    }
   ],
   "source": [
    "a"
   ]
  },
  {
   "cell_type": "code",
   "execution_count": 67,
   "metadata": {},
   "outputs": [
    {
     "data": {
      "text/plain": [
       "<function __main__.knights2.<locals>.inner2()>"
      ]
     },
     "execution_count": 67,
     "metadata": {},
     "output_type": "execute_result"
    }
   ],
   "source": [
    "b"
   ]
  },
  {
   "cell_type": "code",
   "execution_count": 68,
   "metadata": {},
   "outputs": [
    {
     "data": {
      "text/plain": [
       "\"We are the knights who say: 'Duck'\""
      ]
     },
     "execution_count": 68,
     "metadata": {},
     "output_type": "execute_result"
    }
   ],
   "source": [
    "a()"
   ]
  },
  {
   "cell_type": "code",
   "execution_count": 70,
   "metadata": {},
   "outputs": [
    {
     "data": {
      "text/plain": [
       "\"We are the knights who say: 'hasen'\""
      ]
     },
     "execution_count": 70,
     "metadata": {},
     "output_type": "execute_result"
    }
   ],
   "source": [
    "b()"
   ]
  },
  {
   "cell_type": "code",
   "execution_count": 71,
   "metadata": {},
   "outputs": [],
   "source": [
    "c = knights('Ni')"
   ]
  },
  {
   "cell_type": "code",
   "execution_count": 72,
   "metadata": {},
   "outputs": [
    {
     "data": {
      "text/plain": [
       "\"We are the knights who say: '  Ni'\""
      ]
     },
     "execution_count": 72,
     "metadata": {},
     "output_type": "execute_result"
    }
   ],
   "source": [
    "c"
   ]
  },
  {
   "cell_type": "code",
   "execution_count": 73,
   "metadata": {},
   "outputs": [
    {
     "ename": "TypeError",
     "evalue": "'str' object is not callable",
     "output_type": "error",
     "traceback": [
      "\u001b[1;31m---------------------------------------------------------------------------\u001b[0m",
      "\u001b[1;31mTypeError\u001b[0m                                 Traceback (most recent call last)",
      "\u001b[1;32m<ipython-input-73-cd4a6ef0eda0>\u001b[0m in \u001b[0;36m<module>\u001b[1;34m\u001b[0m\n\u001b[1;32m----> 1\u001b[1;33m \u001b[0mc\u001b[0m\u001b[1;33m(\u001b[0m\u001b[1;33m)\u001b[0m\u001b[1;33m\u001b[0m\u001b[1;33m\u001b[0m\u001b[0m\n\u001b[0m",
      "\u001b[1;31mTypeError\u001b[0m: 'str' object is not callable"
     ]
    }
   ],
   "source": [
    "c()"
   ]
  },
  {
   "cell_type": "markdown",
   "metadata": {},
   "source": [
    "### 匿名函式：lambda() 函式"
   ]
  },
  {
   "cell_type": "code",
   "execution_count": 74,
   "metadata": {},
   "outputs": [],
   "source": [
    "def edit_story(words, func):\n",
    "    for word in words:\n",
    "        print(func(word))"
   ]
  },
  {
   "cell_type": "code",
   "execution_count": 75,
   "metadata": {},
   "outputs": [],
   "source": [
    "stairs = ['thud', 'meow', 'thud', 'hiss']"
   ]
  },
  {
   "cell_type": "code",
   "execution_count": 76,
   "metadata": {},
   "outputs": [],
   "source": [
    "def enliven(word): #give that prose more punch\n",
    "    return word.capitalize() + '!'"
   ]
  },
  {
   "cell_type": "code",
   "execution_count": 77,
   "metadata": {},
   "outputs": [
    {
     "name": "stdout",
     "output_type": "stream",
     "text": [
      "Thud!\n",
      "Meow!\n",
      "Thud!\n",
      "Hiss!\n"
     ]
    }
   ],
   "source": [
    "edit_story(stairs, enliven)"
   ]
  },
  {
   "cell_type": "code",
   "execution_count": 82,
   "metadata": {},
   "outputs": [
    {
     "name": "stdout",
     "output_type": "stream",
     "text": [
      "Thud!\n",
      "Meow!\n",
      "Thud!\n",
      "Hiss!\n"
     ]
    }
   ],
   "source": [
    "edit_story(stairs, lambda word: word.capitalize() + '!')"
   ]
  },
  {
   "cell_type": "markdown",
   "metadata": {},
   "source": [
    "### 產生器"
   ]
  },
  {
   "cell_type": "code",
   "execution_count": 108,
   "metadata": {},
   "outputs": [
    {
     "data": {
      "text/plain": [
       "range(1, 4)"
      ]
     },
     "execution_count": 108,
     "metadata": {},
     "output_type": "execute_result"
    }
   ],
   "source": [
    "range(1, 4)"
   ]
  },
  {
   "cell_type": "code",
   "execution_count": 97,
   "metadata": {},
   "outputs": [
    {
     "name": "stdout",
     "output_type": "stream",
     "text": [
      "1\n",
      "2\n",
      "3\n"
     ]
    }
   ],
   "source": [
    "for i in range(1, 4):\n",
    "    print(i)"
   ]
  },
  {
   "cell_type": "code",
   "execution_count": 95,
   "metadata": {},
   "outputs": [],
   "source": [
    "def my_range(first=0, last=10, step=1):\n",
    "    number = first\n",
    "    while number < last:\n",
    "        yield number\n",
    "        number += step"
   ]
  },
  {
   "cell_type": "code",
   "execution_count": 84,
   "metadata": {},
   "outputs": [
    {
     "data": {
      "text/plain": [
       "<function __main__.my_range(first=0, last=10, step=1)>"
      ]
     },
     "execution_count": 84,
     "metadata": {},
     "output_type": "execute_result"
    }
   ],
   "source": [
    "my_range"
   ]
  },
  {
   "cell_type": "code",
   "execution_count": 88,
   "metadata": {},
   "outputs": [],
   "source": [
    "ranger = my_range(1, 10,2)"
   ]
  },
  {
   "cell_type": "code",
   "execution_count": 89,
   "metadata": {},
   "outputs": [
    {
     "data": {
      "text/plain": [
       "<generator object my_range at 0x00000210573D4DE0>"
      ]
     },
     "execution_count": 89,
     "metadata": {},
     "output_type": "execute_result"
    }
   ],
   "source": [
    "ranger"
   ]
  },
  {
   "cell_type": "code",
   "execution_count": 90,
   "metadata": {},
   "outputs": [
    {
     "name": "stdout",
     "output_type": "stream",
     "text": [
      "1\n",
      "3\n",
      "5\n",
      "7\n",
      "9\n"
     ]
    }
   ],
   "source": [
    "for i in ranger:\n",
    "    print(i)"
   ]
  },
  {
   "cell_type": "markdown",
   "metadata": {},
   "source": [
    "### 裝飾器"
   ]
  },
  {
   "cell_type": "code",
   "execution_count": 6,
   "metadata": {},
   "outputs": [],
   "source": [
    "def document_it(func):\n",
    "    def new_function(*args,**kwargs):\n",
    "        print('Running fuction:', func.__name__)\n",
    "        print('Positional arguments', args)\n",
    "        print('Keyword arguments:', kwargs)\n",
    "        result = func(*args,**kwargs)\n",
    "        print('Result:', result)\n",
    "        return result\n",
    "    return new_function"
   ]
  },
  {
   "cell_type": "code",
   "execution_count": 3,
   "metadata": {},
   "outputs": [],
   "source": [
    "def add_ints(a, b):\n",
    "    return a + b"
   ]
  },
  {
   "cell_type": "code",
   "execution_count": 4,
   "metadata": {},
   "outputs": [
    {
     "data": {
      "text/plain": [
       "8"
      ]
     },
     "execution_count": 4,
     "metadata": {},
     "output_type": "execute_result"
    }
   ],
   "source": [
    "add_ints(3,5)"
   ]
  },
  {
   "cell_type": "code",
   "execution_count": 7,
   "metadata": {},
   "outputs": [],
   "source": [
    "cooler_add_ints = document_it(add_ints)"
   ]
  },
  {
   "cell_type": "code",
   "execution_count": 8,
   "metadata": {},
   "outputs": [
    {
     "name": "stdout",
     "output_type": "stream",
     "text": [
      "Running fuction: add_ints\n",
      "Positional arguments (3, 5)\n",
      "Keyword arguments: {}\n",
      "Result: 8\n"
     ]
    },
    {
     "data": {
      "text/plain": [
       "8"
      ]
     },
     "execution_count": 8,
     "metadata": {},
     "output_type": "execute_result"
    }
   ],
   "source": [
    "cooler_add_ints(3, 5)"
   ]
  },
  {
   "cell_type": "code",
   "execution_count": 9,
   "metadata": {},
   "outputs": [],
   "source": [
    "@document_it\n",
    "def add_ints(a, b):\n",
    "    return a + b"
   ]
  },
  {
   "cell_type": "code",
   "execution_count": 10,
   "metadata": {},
   "outputs": [
    {
     "name": "stdout",
     "output_type": "stream",
     "text": [
      "Running fuction: add_ints\n",
      "Positional arguments (10, -1)\n",
      "Keyword arguments: {}\n",
      "Result: 9\n"
     ]
    },
    {
     "data": {
      "text/plain": [
       "9"
      ]
     },
     "execution_count": 10,
     "metadata": {},
     "output_type": "execute_result"
    }
   ],
   "source": [
    "add_ints(10,-1)"
   ]
  },
  {
   "cell_type": "code",
   "execution_count": 18,
   "metadata": {},
   "outputs": [],
   "source": [
    "def square_it(func):\n",
    "    def new_function(*args, **kwargs):\n",
    "        result = func(*args, **kwargs)\n",
    "        return result * result\n",
    "    return new_function"
   ]
  },
  {
   "cell_type": "code",
   "execution_count": 19,
   "metadata": {},
   "outputs": [],
   "source": [
    "@document_it\n",
    "@square_it\n",
    "def add_ints(a, b):\n",
    "    return a + b"
   ]
  },
  {
   "cell_type": "code",
   "execution_count": 20,
   "metadata": {},
   "outputs": [
    {
     "name": "stdout",
     "output_type": "stream",
     "text": [
      "Running fuction: new_function\n",
      "Positional arguments (3, 5)\n",
      "Keyword arguments: {}\n",
      "Result: 64\n"
     ]
    },
    {
     "data": {
      "text/plain": [
       "64"
      ]
     },
     "execution_count": 20,
     "metadata": {},
     "output_type": "execute_result"
    }
   ],
   "source": [
    "add_ints(3,5)"
   ]
  },
  {
   "cell_type": "code",
   "execution_count": 16,
   "metadata": {},
   "outputs": [],
   "source": [
    "@square_it\n",
    "@document_it\n",
    "def add_ints(a, b):\n",
    "    return a + b"
   ]
  },
  {
   "cell_type": "code",
   "execution_count": 17,
   "metadata": {},
   "outputs": [
    {
     "name": "stdout",
     "output_type": "stream",
     "text": [
      "Running fuction: add_ints\n",
      "Positional arguments (3, 5)\n",
      "Keyword arguments: {}\n",
      "Result: 8\n",
      "64\n"
     ]
    },
    {
     "data": {
      "text/plain": [
       "64"
      ]
     },
     "execution_count": 17,
     "metadata": {},
     "output_type": "execute_result"
    }
   ],
   "source": [
    "add_ints(3,5)"
   ]
  },
  {
   "cell_type": "markdown",
   "metadata": {},
   "source": [
    "### 命名空間與範圍"
   ]
  },
  {
   "cell_type": "code",
   "execution_count": 33,
   "metadata": {},
   "outputs": [],
   "source": [
    "animal = 'fruitbat'\n",
    "def change_local():\n",
    "    animal = 'wombat' # local variable\n",
    "    print('locals:', locals(), animal, id(animal)) #locals()會回傳區域命名空間的字典內容"
   ]
  },
  {
   "cell_type": "code",
   "execution_count": 34,
   "metadata": {},
   "outputs": [
    {
     "data": {
      "text/plain": [
       "'fruitbat'"
      ]
     },
     "execution_count": 34,
     "metadata": {},
     "output_type": "execute_result"
    }
   ],
   "source": [
    "animal"
   ]
  },
  {
   "cell_type": "code",
   "execution_count": 36,
   "metadata": {},
   "outputs": [
    {
     "name": "stdout",
     "output_type": "stream",
     "text": [
      "locals: {'animal': 'wombat'} wombat 1693768857560\n"
     ]
    }
   ],
   "source": [
    "change_local()"
   ]
  },
  {
   "cell_type": "code",
   "execution_count": 38,
   "metadata": {},
   "outputs": [
    {
     "name": "stdout",
     "output_type": "stream",
     "text": [
      "globals: {'__name__': '__main__', '__doc__': 'Automatically created module for IPython interactive environment', '__package__': None, '__loader__': None, '__spec__': None, '__builtin__': <module 'builtins' (built-in)>, '__builtins__': <module 'builtins' (built-in)>, '_ih': ['', \"def document_it(func):\\n    def mew_function(*args,**kwargs):\\n        print('Running fuction:', func.__name__)\\n        print('Positional arguments', args)\\n        print('Keyword arguments:', kwargs)\\n        result = func(*args,**kwargs)\\n        print('Result:', result)\\n        return result\\n    return new_function\\n        \", \"def document_it(func):\\n    def mew_function(*args,**kwargs):\\n        print('Running fuction:', func.__name__)\\n        print('Positional arguments', args)\\n        print('Keyword arguments:', kwargs)\\n        result = func(*args,**kwargs)\\n        print('Result:', result)\\n        return result\\n    return new_function\", 'def add_ints(a, b):\\n    return a + b', 'add_ints(3,5)', 'cooler_add_ints = document_it(add_ints)', \"def document_it(func):\\n    def new_function(*args,**kwargs):\\n        print('Running fuction:', func.__name__)\\n        print('Positional arguments', args)\\n        print('Keyword arguments:', kwargs)\\n        result = func(*args,**kwargs)\\n        print('Result:', result)\\n        return result\\n    return new_function\", 'cooler_add_ints = document_it(add_ints)', 'cooler_add_ints(3, 5)', '@document_it\\ndef add_ints(a, b):\\n    return a + b', 'add_ints(10,-1)', 'def square_it(func):\\n    def new_function(*args, **kwargs):\\n        result = func(*args, **kwargs)\\n        return result * result\\n    return new_function', 'def square_it(func):\\n    def new_function(*args, **kwargs):\\n        result = func(*args, **kwargs)\\n        print(result**2)\\n        return result * result\\n    return new_function', '@document_it\\n@square_it\\ndef add_ints(a, b):\\n    return a + b', 'add_int(3,5)', 'add_ints(3,5)', '@square_it\\n@document_it\\ndef add_ints(a, b):\\n    return a + b', 'add_ints(3,5)', 'def square_it(func):\\n    def new_function(*args, **kwargs):\\n        result = func(*args, **kwargs)\\n        return result * result\\n    return new_function', '@document_it\\n@square_it\\ndef add_ints(a, b):\\n    return a + b', 'add_ints(3,5)', \"animal = 'fruitbat'\\ndef change_local():\\n    animal = 'wombat' # local variable\\n    print('locals:', locals())\", 'animal', 'change_local()', \"print('globals:', globals())\", \"animal = 'fruitbat'\\ndef change_local():\\n    animal = 'wombat' # local variable\\n    print('locals:', locals())\", 'animal', 'change_local()', 'change_local()', 'print( globals())', \"print('globals:', globals())\", 'animals', 'animal', \"animal = 'fruitbat'\\ndef change_local():\\n    animal = 'wombat' # local variable\\n    print('locals:', locals(), animal, id(animal))\", 'animal', 'change_local()', 'change_local()', \"print('globals:', globals(),id(animal)) #globals()會回傳全域命名空間的字典內容\", \"print('globals:', globals(), animal, id(animal)) #globals()會回傳全域命名空間的字典內容\"], '_oh': {4: 8, 8: 8, 10: 9, 15: 64, 17: 64, 20: 64, 22: 'fruitbat', 26: 'fruitbat', 32: 'fruitbat', 34: 'fruitbat'}, '_dh': ['C:\\\\Users\\\\joy33077\\\\Jupiter Workspace\\\\精通Python'], 'In': ['', \"def document_it(func):\\n    def mew_function(*args,**kwargs):\\n        print('Running fuction:', func.__name__)\\n        print('Positional arguments', args)\\n        print('Keyword arguments:', kwargs)\\n        result = func(*args,**kwargs)\\n        print('Result:', result)\\n        return result\\n    return new_function\\n        \", \"def document_it(func):\\n    def mew_function(*args,**kwargs):\\n        print('Running fuction:', func.__name__)\\n        print('Positional arguments', args)\\n        print('Keyword arguments:', kwargs)\\n        result = func(*args,**kwargs)\\n        print('Result:', result)\\n        return result\\n    return new_function\", 'def add_ints(a, b):\\n    return a + b', 'add_ints(3,5)', 'cooler_add_ints = document_it(add_ints)', \"def document_it(func):\\n    def new_function(*args,**kwargs):\\n        print('Running fuction:', func.__name__)\\n        print('Positional arguments', args)\\n        print('Keyword arguments:', kwargs)\\n        result = func(*args,**kwargs)\\n        print('Result:', result)\\n        return result\\n    return new_function\", 'cooler_add_ints = document_it(add_ints)', 'cooler_add_ints(3, 5)', '@document_it\\ndef add_ints(a, b):\\n    return a + b', 'add_ints(10,-1)', 'def square_it(func):\\n    def new_function(*args, **kwargs):\\n        result = func(*args, **kwargs)\\n        return result * result\\n    return new_function', 'def square_it(func):\\n    def new_function(*args, **kwargs):\\n        result = func(*args, **kwargs)\\n        print(result**2)\\n        return result * result\\n    return new_function', '@document_it\\n@square_it\\ndef add_ints(a, b):\\n    return a + b', 'add_int(3,5)', 'add_ints(3,5)', '@square_it\\n@document_it\\ndef add_ints(a, b):\\n    return a + b', 'add_ints(3,5)', 'def square_it(func):\\n    def new_function(*args, **kwargs):\\n        result = func(*args, **kwargs)\\n        return result * result\\n    return new_function', '@document_it\\n@square_it\\ndef add_ints(a, b):\\n    return a + b', 'add_ints(3,5)', \"animal = 'fruitbat'\\ndef change_local():\\n    animal = 'wombat' # local variable\\n    print('locals:', locals())\", 'animal', 'change_local()', \"print('globals:', globals())\", \"animal = 'fruitbat'\\ndef change_local():\\n    animal = 'wombat' # local variable\\n    print('locals:', locals())\", 'animal', 'change_local()', 'change_local()', 'print( globals())', \"print('globals:', globals())\", 'animals', 'animal', \"animal = 'fruitbat'\\ndef change_local():\\n    animal = 'wombat' # local variable\\n    print('locals:', locals(), animal, id(animal))\", 'animal', 'change_local()', 'change_local()', \"print('globals:', globals(),id(animal)) #globals()會回傳全域命名空間的字典內容\", \"print('globals:', globals(), animal, id(animal)) #globals()會回傳全域命名空間的字典內容\"], 'Out': {4: 8, 8: 8, 10: 9, 15: 64, 17: 64, 20: 64, 22: 'fruitbat', 26: 'fruitbat', 32: 'fruitbat', 34: 'fruitbat'}, 'get_ipython': <bound method InteractiveShell.get_ipython of <ipykernel.zmqshell.ZMQInteractiveShell object at 0x0000018A5C1FCB38>>, 'exit': <IPython.core.autocall.ZMQExitAutocall object at 0x0000018A5C24AFD0>, 'quit': <IPython.core.autocall.ZMQExitAutocall object at 0x0000018A5C24AFD0>, '_': 'fruitbat', '__': 'fruitbat', '___': 'fruitbat', '_i': \"print('globals:', globals(),id(animal)) #globals()會回傳全域命名空間的字典內容\", '_ii': 'change_local()', '_iii': 'change_local()', '_i1': \"def document_it(func):\\n    def mew_function(*args,**kwargs):\\n        print('Running fuction:', func.__name__)\\n        print('Positional arguments', args)\\n        print('Keyword arguments:', kwargs)\\n        result = func(*args,**kwargs)\\n        print('Result:', result)\\n        return result\\n    return new_function\\n        \", 'document_it': <function document_it at 0x0000018A5C78B840>, '_i2': \"def document_it(func):\\n    def mew_function(*args,**kwargs):\\n        print('Running fuction:', func.__name__)\\n        print('Positional arguments', args)\\n        print('Keyword arguments:', kwargs)\\n        result = func(*args,**kwargs)\\n        print('Result:', result)\\n        return result\\n    return new_function\", '_i3': 'def add_ints(a, b):\\n    return a + b', 'add_ints': <function document_it.<locals>.new_function at 0x0000018A5C78B7B8>, '_i4': 'add_ints(3,5)', '_4': 8, '_i5': 'cooler_add_ints = document_it(add_ints)', '_i6': \"def document_it(func):\\n    def new_function(*args,**kwargs):\\n        print('Running fuction:', func.__name__)\\n        print('Positional arguments', args)\\n        print('Keyword arguments:', kwargs)\\n        result = func(*args,**kwargs)\\n        print('Result:', result)\\n        return result\\n    return new_function\", '_i7': 'cooler_add_ints = document_it(add_ints)', 'cooler_add_ints': <function document_it.<locals>.new_function at 0x0000018A5C3550D0>, '_i8': 'cooler_add_ints(3, 5)', '_8': 8, '_i9': '@document_it\\ndef add_ints(a, b):\\n    return a + b', '_i10': 'add_ints(10,-1)', '_10': 9, '_i11': 'def square_it(func):\\n    def new_function(*args, **kwargs):\\n        result = func(*args, **kwargs)\\n        return result * result\\n    return new_function', 'square_it': <function square_it at 0x0000018A5C78BB70>, '_i12': 'def square_it(func):\\n    def new_function(*args, **kwargs):\\n        result = func(*args, **kwargs)\\n        print(result**2)\\n        return result * result\\n    return new_function', '_i13': '@document_it\\n@square_it\\ndef add_ints(a, b):\\n    return a + b', '_i14': 'add_int(3,5)', '_i15': 'add_ints(3,5)', '_15': 64, '_i16': '@square_it\\n@document_it\\ndef add_ints(a, b):\\n    return a + b', '_i17': 'add_ints(3,5)', '_17': 64, '_i18': 'def square_it(func):\\n    def new_function(*args, **kwargs):\\n        result = func(*args, **kwargs)\\n        return result * result\\n    return new_function', '_i19': '@document_it\\n@square_it\\ndef add_ints(a, b):\\n    return a + b', '_i20': 'add_ints(3,5)', '_20': 64, '_i21': \"animal = 'fruitbat'\\ndef change_local():\\n    animal = 'wombat' # local variable\\n    print('locals:', locals())\", 'animal': 'fruitbat', 'change_local': <function change_local at 0x0000018A5C78BBF8>, '_i22': 'animal', '_22': 'fruitbat', '_i23': 'change_local()', '_i24': \"print('globals:', globals())\", '_i25': \"animal = 'fruitbat'\\ndef change_local():\\n    animal = 'wombat' # local variable\\n    print('locals:', locals())\", '_i26': 'animal', '_26': 'fruitbat', '_i27': 'change_local()', '_i28': 'change_local()', '_i29': 'print( globals())', '_i30': \"print('globals:', globals())\", '_i31': 'animals', '_i32': 'animal', '_32': 'fruitbat', '_i33': \"animal = 'fruitbat'\\ndef change_local():\\n    animal = 'wombat' # local variable\\n    print('locals:', locals(), animal, id(animal))\", '_i34': 'animal', '_34': 'fruitbat', '_i35': 'change_local()', '_i36': 'change_local()', '_i37': \"print('globals:', globals(),id(animal)) #globals()會回傳全域命名空間的字典內容\", '_i38': \"print('globals:', globals(), animal, id(animal)) #globals()會回傳全域命名空間的字典內容\"} fruitbat 1693769016624\n"
     ]
    }
   ],
   "source": [
    "print('globals:', globals(), animal, id(animal)) #globals()會回傳全域命名空間的字典內容"
   ]
  },
  {
   "cell_type": "code",
   "execution_count": 32,
   "metadata": {},
   "outputs": [
    {
     "data": {
      "text/plain": [
       "'fruitbat'"
      ]
     },
     "execution_count": 32,
     "metadata": {},
     "output_type": "execute_result"
    }
   ],
   "source": [
    "animal"
   ]
  },
  {
   "cell_type": "markdown",
   "metadata": {},
   "source": [
    "### 在名稱中使用 _ 與 __ "
   ]
  },
  {
   "cell_type": "code",
   "execution_count": 39,
   "metadata": {},
   "outputs": [],
   "source": [
    "def amazing():\n",
    "    '''This is the amazing function.\n",
    "    want to see it again'''\n",
    "    print(\"This function is named: \", amazing.__name__)\n",
    "    print(\"And its docstring is: \", amazing.__doc__)"
   ]
  },
  {
   "cell_type": "code",
   "execution_count": 40,
   "metadata": {},
   "outputs": [
    {
     "name": "stdout",
     "output_type": "stream",
     "text": [
      "This function is named:  amazing\n",
      "And its docstring is:  This is the amazing function.\n",
      "    want to see it again\n"
     ]
    }
   ],
   "source": [
    "amazing()"
   ]
  },
  {
   "cell_type": "markdown",
   "metadata": {},
   "source": [
    "### 使用 try 與 except 來處理錯誤"
   ]
  },
  {
   "cell_type": "code",
   "execution_count": 46,
   "metadata": {},
   "outputs": [
    {
     "ename": "IndexError",
     "evalue": "list index out of range",
     "output_type": "error",
     "traceback": [
      "\u001b[1;31m---------------------------------------------------------------------------\u001b[0m",
      "\u001b[1;31mIndexError\u001b[0m                                Traceback (most recent call last)",
      "\u001b[1;32m<ipython-input-46-4582e19ba824>\u001b[0m in \u001b[0;36m<module>\u001b[1;34m\u001b[0m\n\u001b[0;32m      1\u001b[0m \u001b[0mshort_list\u001b[0m \u001b[1;33m=\u001b[0m \u001b[1;33m[\u001b[0m\u001b[1;36m1\u001b[0m\u001b[1;33m,\u001b[0m \u001b[1;36m2\u001b[0m\u001b[1;33m,\u001b[0m \u001b[1;36m3\u001b[0m\u001b[1;33m]\u001b[0m\u001b[1;33m\u001b[0m\u001b[1;33m\u001b[0m\u001b[0m\n\u001b[0;32m      2\u001b[0m \u001b[0mposition\u001b[0m \u001b[1;33m=\u001b[0m \u001b[1;36m5\u001b[0m\u001b[1;33m\u001b[0m\u001b[1;33m\u001b[0m\u001b[0m\n\u001b[1;32m----> 3\u001b[1;33m \u001b[0mshort_list\u001b[0m\u001b[1;33m[\u001b[0m\u001b[1;36m4\u001b[0m\u001b[1;33m]\u001b[0m\u001b[1;33m\u001b[0m\u001b[1;33m\u001b[0m\u001b[0m\n\u001b[0m",
      "\u001b[1;31mIndexError\u001b[0m: list index out of range"
     ]
    }
   ],
   "source": [
    "short_list = [1, 2, 3]\n",
    "position = 5\n",
    "short_list[4]"
   ]
  },
  {
   "cell_type": "code",
   "execution_count": 47,
   "metadata": {},
   "outputs": [
    {
     "ename": "NameError",
     "evalue": "name 'one' is not defined",
     "output_type": "error",
     "traceback": [
      "\u001b[1;31m---------------------------------------------------------------------------\u001b[0m",
      "\u001b[1;31mNameError\u001b[0m                                 Traceback (most recent call last)",
      "\u001b[1;32m<ipython-input-47-24b93a4dec11>\u001b[0m in \u001b[0;36m<module>\u001b[1;34m\u001b[0m\n\u001b[0;32m      1\u001b[0m \u001b[0mshort_list\u001b[0m \u001b[1;33m=\u001b[0m \u001b[1;33m[\u001b[0m\u001b[1;36m1\u001b[0m\u001b[1;33m,\u001b[0m \u001b[1;36m2\u001b[0m\u001b[1;33m,\u001b[0m \u001b[1;36m3\u001b[0m\u001b[1;33m]\u001b[0m\u001b[1;33m\u001b[0m\u001b[1;33m\u001b[0m\u001b[0m\n\u001b[0;32m      2\u001b[0m \u001b[0mposition\u001b[0m \u001b[1;33m=\u001b[0m \u001b[1;36m5\u001b[0m\u001b[1;33m\u001b[0m\u001b[1;33m\u001b[0m\u001b[0m\n\u001b[1;32m----> 3\u001b[1;33m \u001b[0mshort_list\u001b[0m\u001b[1;33m[\u001b[0m\u001b[0mone\u001b[0m\u001b[1;33m]\u001b[0m\u001b[1;33m\u001b[0m\u001b[1;33m\u001b[0m\u001b[0m\n\u001b[0m",
      "\u001b[1;31mNameError\u001b[0m: name 'one' is not defined"
     ]
    }
   ],
   "source": [
    "short_list = [1, 2, 3]\n",
    "position = 5\n",
    "short_list[one]"
   ]
  },
  {
   "cell_type": "code",
   "execution_count": 50,
   "metadata": {},
   "outputs": [
    {
     "name": "stdout",
     "output_type": "stream",
     "text": [
      "Need a position bwtween 0 and 2  but not 5\n"
     ]
    }
   ],
   "source": [
    "short_list = [1, 2, 3]\n",
    "position = 5\n",
    "try:\n",
    "    short_list[position]\n",
    "except:\n",
    "    print(\"Need a position bwtween 0 and\", len(short_list)-1, ' but not', position)"
   ]
  },
  {
   "cell_type": "code",
   "execution_count": 3,
   "metadata": {},
   "outputs": [
    {
     "name": "stdout",
     "output_type": "stream",
     "text": [
      "position [q to quit]: 0\n",
      "one\n",
      "position [q to quit]: 4\n",
      "Bad index: 4\n",
      "Message: list index out of range\n",
      "position [q to quit]: one\n",
      "Somthing else broke invalid literal for int() with base 10: 'one'\n",
      "position [q to quit]: q\n"
     ]
    }
   ],
   "source": [
    "short_list = ['one', 'two', 'three']\n",
    "while True:\n",
    "    value = input(\"position [q to quit]: \")\n",
    "    if value == 'q' :\n",
    "        break\n",
    "    try:\n",
    "        position = int(value)\n",
    "        print(short_list[position])\n",
    "    except IndexError as err:\n",
    "        print('Bad index:', position)\n",
    "        print('Message:', err)\n",
    "    except Exception as other:\n",
    "        print('Somthing else broke', other)        "
   ]
  },
  {
   "cell_type": "markdown",
   "metadata": {},
   "source": [
    "### 製作你自己的例外"
   ]
  },
  {
   "cell_type": "markdown",
   "metadata": {},
   "source": [
    "等學完「類別」概念再回來"
   ]
  }
 ],
 "metadata": {
  "kernelspec": {
   "display_name": "Python 3",
   "language": "python",
   "name": "python3"
  },
  "language_info": {
   "codemirror_mode": {
    "name": "ipython",
    "version": 3
   },
   "file_extension": ".py",
   "mimetype": "text/x-python",
   "name": "python",
   "nbconvert_exporter": "python",
   "pygments_lexer": "ipython3",
   "version": "3.7.1"
  }
 },
 "nbformat": 4,
 "nbformat_minor": 2
}
