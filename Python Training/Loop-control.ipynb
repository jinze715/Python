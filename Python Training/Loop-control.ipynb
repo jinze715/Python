{
 "cells": [
  {
   "cell_type": "markdown",
   "metadata": {},
   "source": [
    "# break 的簡易範例"
   ]
  },
  {
   "cell_type": "code",
   "execution_count": 6,
   "metadata": {},
   "outputs": [
    {
     "name": "stdout",
     "output_type": "stream",
     "text": [
      "0\n",
      "1\n",
      "2\n",
      "最後的 n:  3\n"
     ]
    }
   ],
   "source": [
    "n = 0\n",
    "while n<5:\n",
    "    if n==3:\n",
    "        break\n",
    "    print(n) # 印出迴圈中的n\n",
    "    n+=1\n",
    "print(\"最後的 n: \", n) # 印出迴圈結束後的n"
   ]
  },
  {
   "cell_type": "markdown",
   "metadata": {},
   "source": [
    "# continue 的簡易範例"
   ]
  },
  {
   "cell_type": "code",
   "execution_count": 7,
   "metadata": {},
   "outputs": [
    {
     "name": "stdout",
     "output_type": "stream",
     "text": [
      "1\n",
      "3\n",
      "最後的 n:  2\n"
     ]
    }
   ],
   "source": [
    "n = 0\n",
    "for x in [0,1,2,3]:\n",
    "    if x%2==0:\n",
    "        continue # 跳過後續程式，直接進入下一個迴圈\n",
    "    print(x)\n",
    "    n+=1\n",
    "print(\"最後的 n: \", n)"
   ]
  },
  {
   "cell_type": "markdown",
   "metadata": {},
   "source": [
    "# else 的簡易範例"
   ]
  },
  {
   "cell_type": "code",
   "execution_count": 8,
   "metadata": {},
   "outputs": [
    {
     "name": "stdout",
     "output_type": "stream",
     "text": [
      "55\n"
     ]
    }
   ],
   "source": [
    "sum = 0\n",
    "for n in range(11):\n",
    "    sum+=n\n",
    "else:\n",
    "    print(sum) #印出加總"
   ]
  },
  {
   "cell_type": "markdown",
   "metadata": {},
   "source": [
    "# 綜合範例: 找出整數平方根"
   ]
  },
  {
   "cell_type": "code",
   "execution_count": 11,
   "metadata": {},
   "outputs": [
    {
     "name": "stdout",
     "output_type": "stream",
     "text": [
      "請輸入一個正整數:25\n",
      "整數平方根:  5\n"
     ]
    }
   ],
   "source": [
    "n = int(input(\"請輸入一個正整數:\" ))\n",
    "for i in range(n):\n",
    "    if i*i==n:\n",
    "        print(\"整數平方根: \", i)\n",
    "        break # 用break強制結束迴圈時，不會執行 else 區塊\n",
    "else:\n",
    "    print(\"沒有整數平方根\")"
   ]
  },
  {
   "cell_type": "code",
   "execution_count": null,
   "metadata": {},
   "outputs": [],
   "source": []
  }
 ],
 "metadata": {
  "kernelspec": {
   "display_name": "Python 3",
   "language": "python",
   "name": "python3"
  },
  "language_info": {
   "codemirror_mode": {
    "name": "ipython",
    "version": 3
   },
   "file_extension": ".py",
   "mimetype": "text/x-python",
   "name": "python",
   "nbconvert_exporter": "python",
   "pygments_lexer": "ipython3",
   "version": "3.7.1"
  }
 },
 "nbformat": 4,
 "nbformat_minor": 2
}
