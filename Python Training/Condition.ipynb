{
 "cells": [
  {
   "cell_type": "code",
   "execution_count": 1,
   "metadata": {},
   "outputs": [
    {
     "name": "stdout",
     "output_type": "stream",
     "text": [
      "請輸入數字一: 5\n",
      "請輸入數字一: 4\n",
      "請輸入運算(+,-,*,/):*\n",
      "20\n"
     ]
    }
   ],
   "source": [
    "n1 = int(input(\"請輸入數字一: \"))\n",
    "n2 = int(input(\"請輸入數字一: \"))\n",
    "op = input(\"請輸入運算(+,-,*,/):\")\n",
    "if op==\"+\":\n",
    "    print(n1+n2)\n",
    "elif op==\"-\":\n",
    "    print(n1-n2)\n",
    "elif op==\"*\":\n",
    "    print(n1*n2)\n",
    "elif op==\"/\":\n",
    "    print(n1/n2)\n",
    "else:\n",
    "    print(\"不支援的運算\")"
   ]
  },
  {
   "cell_type": "code",
   "execution_count": null,
   "metadata": {},
   "outputs": [],
   "source": []
  }
 ],
 "metadata": {
  "kernelspec": {
   "display_name": "Python 3",
   "language": "python",
   "name": "python3"
  },
  "language_info": {
   "codemirror_mode": {
    "name": "ipython",
    "version": 3
   },
   "file_extension": ".py",
   "mimetype": "text/x-python",
   "name": "python",
   "nbconvert_exporter": "python",
   "pygments_lexer": "ipython3",
   "version": "3.7.1"
  }
 },
 "nbformat": 4,
 "nbformat_minor": 2
}
